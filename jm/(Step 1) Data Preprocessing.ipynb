{
 "cells": [
  {
   "cell_type": "code",
   "execution_count": 1,
   "metadata": {},
   "outputs": [],
   "source": [
    "# IMPORT AND INITIALIZE\n",
    "import pandas as pd # data processing, CSV file I/O (e.g. pd.read_csv)\n",
    "import re\n",
    "\n",
    "df = pd.read_csv('train.csv')\n",
    "df['POI'] = df['POI/street'].str.split(\"/\", n = 2, expand = True)[0]\n",
    "df['street'] = df['POI/street'].str.split(\"/\", n = 2, expand = True)[1]"
   ]
  },
  {
   "cell_type": "code",
   "execution_count": 2,
   "metadata": {},
   "outputs": [],
   "source": [
    "# CLEAN DATAFRAME\n",
    "# Notes: If attempt is made to lowercase, make sure to uppercase it back for the test set\n",
    "# Do not remove punctuation or use Stop-words/ Lemmatization as adjacency and word match is important\n",
    "\n",
    "for index, row in df.iterrows():\n",
    "    address=row['raw_address']\n",
    "#   ASSUMPTION #1 EVERYTHING AFTER LAST OCCURANCE OF ',' IS USELESS\n",
    "    comma_index = next((i for i, x in enumerate(address) if x == ','), None)\n",
    "    address= address[:comma_index]\n",
    "#   ASSUMPTION #2 EVERYTHING AFTER POSTAL CODE OCCURANCE IS USELESS\n",
    "    indexOfPostalCode= re.search(r\"\\D(\\d{5})\\D\", address)\n",
    "    if indexOfPostalCode!=None:\n",
    "        address = address[:indexOfPostalCode.start()]\n",
    "#   Remove trailing whitespace and commas\n",
    "    df.at[index,'raw_address'] = address.strip(' ,')\n",
    "\n",
    "df.drop(columns=['id'],inplace = True)\n",
    "df.to_csv('train_clean.csv', index=False)"
   ]
  },
  {
   "cell_type": "code",
   "execution_count": null,
   "metadata": {},
   "outputs": [],
   "source": []
  }
 ],
 "metadata": {
  "kernelspec": {
   "display_name": "Python 3",
   "language": "python",
   "name": "python3"
  },
  "language_info": {
   "codemirror_mode": {
    "name": "ipython",
    "version": 3
   },
   "file_extension": ".py",
   "mimetype": "text/x-python",
   "name": "python",
   "nbconvert_exporter": "python",
   "pygments_lexer": "ipython3",
   "version": "3.6.8"
  }
 },
 "nbformat": 4,
 "nbformat_minor": 2
}
