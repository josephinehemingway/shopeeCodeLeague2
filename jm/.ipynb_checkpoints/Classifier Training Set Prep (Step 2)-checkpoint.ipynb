{
 "cells": [
  {
   "cell_type": "code",
   "execution_count": null,
   "metadata": {},
   "outputs": [],
   "source": [
    "# IMPORT AND INITIALIZE\n",
    "import numpy as np # linear algebra\n",
    "import pandas as pd # data processing, CSV file I/O (e.g. pd.read_csv)\n",
    "import re\n",
    "\n",
    "df = pd.read_csv('train_clean.csv')\n",
    "df = df.replace(np.nan, '', regex=True)\n",
    "\n",
    "# CREATE A CSV FILE OF STRINGS WHERE \n",
    "# 0 MEANS STRING IS A UNCLASSIFIED TYPE\n",
    "# 1 MEANS STRING IS OF POI TYPE\n",
    "# 2 MEANS STRING IS OF STREET TYPE\n",
    "train_test_set=[]\n",
    "for index, row in df.iterrows():\n",
    "#   Unused words = phrase in raw address which was not used in both poi and street\n",
    "    unusedWords = row['raw_address']\n",
    "    unusedWords = unusedWords.replace(row['street'], \"\").replace(row['POI'], \"\")\n",
    "    unusedWords = unusedWords.replace('  ',' ').strip(' ,')\n",
    "    train_test_set.append([unusedWords,0])\n",
    "#   phrase belogns to POI type\n",
    "    train_test_set.append([row['POI'],1])\n",
    "#   phrase belogns to Street type\n",
    "    train_test_set.append([row['street'],2])\n",
    "\n",
    "#     Save DataFrame\n",
    "train_test_set = pd.DataFrame(train_test_set, columns = ['text' , 'category']) \n",
    "train_test_set = train_test_set[train_test_set.text != '']\n",
    "\n",
    "train_test_set.to_csv('train_test_set.csv', index=False)\n"
   ]
  },
  {
   "cell_type": "code",
   "execution_count": null,
   "metadata": {},
   "outputs": [],
   "source": []
  }
 ],
 "metadata": {
  "kernelspec": {
   "display_name": "Python 3",
   "language": "python",
   "name": "python3"
  },
  "language_info": {
   "codemirror_mode": {
    "name": "ipython",
    "version": 3
   },
   "file_extension": ".py",
   "mimetype": "text/x-python",
   "name": "python",
   "nbconvert_exporter": "python",
   "pygments_lexer": "ipython3",
   "version": "3.6.8"
  }
 },
 "nbformat": 4,
 "nbformat_minor": 2
}
