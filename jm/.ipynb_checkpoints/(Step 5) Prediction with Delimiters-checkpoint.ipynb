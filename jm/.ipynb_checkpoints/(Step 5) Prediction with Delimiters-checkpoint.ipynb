{
 "cells": [
  {
   "cell_type": "code",
   "execution_count": null,
   "metadata": {},
   "outputs": [],
   "source": [
    "df['guessed_street'] = ''\n",
    "df['guessed_poi'] = ''\n",
    "\n",
    "for index, row in df.iterrows():\n",
    "    address= row['raw_address']\n",
    "#     Street assignment\n",
    "    address_words=address.split(' ')\n",
    "    streetPreIndex=0\n",
    "    streetPostIndex=len(address)-1\n",
    "    for key in street_pre_delimiter_dict:\n",
    "        try:\n",
    "            street_index= address_words.index(key)\n",
    "            streetPreIndex=street_index\n",
    "            break\n",
    "        except ValueError:\n",
    "            pass \n",
    "    address_words=address_words[streetPreIndex:]\n",
    "    for key in street_post_delimiter_dict:\n",
    "        try:\n",
    "            street_index = address_words.index(key)\n",
    "            print(key)\n",
    "            streetPostIndex=street_index\n",
    "            break\n",
    "        except ValueError:\n",
    "            pass \n",
    "    df.at[index,'guessed_street']=' '.join(address_words[streetPreIndex:streetPostIndex])\n",
    "\n",
    "    #     poi assignment\n",
    "    address_words=address.split(' ')\n",
    "    poiPreIndex=0\n",
    "    poiPostIndex=len(address)-1\n",
    "    for key in poi_pre_delimiter_dict:\n",
    "        try:\n",
    "            poi_index= address_words.index(key)\n",
    "            poiPreIndex=poi_index\n",
    "            break\n",
    "        except ValueError:\n",
    "            pass \n",
    "    address_words=address_words[poiPreIndex:]\n",
    "    for key in poi_post_delimiter_dict:\n",
    "        try:\n",
    "            poi_index = address_words.index(key)\n",
    "            print(key)\n",
    "            poiPostIndex=poi_index\n",
    "            break\n",
    "        except ValueError:\n",
    "            pass \n",
    "    df.at[index,'guessed_poi']=' '.join(address_words[poiPreIndex:poiPostIndex])\n",
    "df"
   ]
  }
 ],
 "metadata": {
  "kernelspec": {
   "display_name": "Python 3",
   "language": "python",
   "name": "python3"
  },
  "language_info": {
   "codemirror_mode": {
    "name": "ipython",
    "version": 3
   },
   "file_extension": ".py",
   "mimetype": "text/x-python",
   "name": "python",
   "nbconvert_exporter": "python",
   "pygments_lexer": "ipython3",
   "version": "3.6.8"
  }
 },
 "nbformat": 4,
 "nbformat_minor": 2
}
