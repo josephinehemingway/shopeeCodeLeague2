{
 "cells": [
  {
   "cell_type": "code",
   "execution_count": 1,
   "metadata": {},
   "outputs": [],
   "source": [
    "import pickle\n",
    "import pandas as pd # data processing, CSV file I/O (e.g. pd.read_csv)\n",
    "import numpy as np # linear algebra\n",
    "\n",
    "df = pd.read_csv('train_clean.csv')\n",
    "df = df.replace(np.nan, '', regex=True).drop(columns='POI/street')"
   ]
  },
  {
   "cell_type": "code",
   "execution_count": 2,
   "metadata": {},
   "outputs": [],
   "source": [
    "street_pre_delimiter_dict={}\n",
    "street_post_delimiter_dict={}\n",
    "poi_pre_delimiter_dict={}\n",
    "poi_post_delimiter_dict={}\n",
    "\n",
    "for index, row in df.iterrows():\n",
    "    address= row['raw_address']\n",
    "    try:\n",
    "        street = row['street']\n",
    "        if street != \"\":\n",
    "            street_index = address.index(street)\n",
    "            # street pre delimiter\n",
    "            street_pre_delimiter = street.split()[0]\n",
    "            if street_pre_delimiter in street_pre_delimiter_dict:\n",
    "                street_pre_delimiter_dict[street_pre_delimiter] += 1\n",
    "            else:\n",
    "                street_pre_delimiter_dict[street_pre_delimiter] = 1\n",
    "            # street post delimiter\n",
    "            street_post_delimiter = next(iter(address[street_index+len(street):].split()), \"\")\n",
    "            if street_post_delimiter in street_post_delimiter_dict:\n",
    "                street_post_delimiter_dict[street_post_delimiter] += 1\n",
    "            else:\n",
    "                street_post_delimiter_dict[street_post_delimiter] = 1\n",
    "    except ValueError:\n",
    "        pass\n",
    "#     poi\n",
    "    try:\n",
    "        poi = row['POI']\n",
    "        if poi != \"\":\n",
    "            poi_index = address.index(poi)\n",
    "            # poi pre delimiter\n",
    "            poi_pre_delimiter = poi.split()[0]\n",
    "            if poi_pre_delimiter in poi_pre_delimiter_dict:\n",
    "                poi_pre_delimiter_dict[poi_pre_delimiter] += 1\n",
    "            else:\n",
    "                poi_pre_delimiter_dict[poi_pre_delimiter] = 1\n",
    "            # poi post delimiter\n",
    "            poi_post_delimiter = next(iter(address[poi_index+len(poi):].split()), \"\")\n",
    "            if poi_post_delimiter in poi_post_delimiter_dict:\n",
    "                poi_post_delimiter_dict[poi_post_delimiter] += 1\n",
    "            else:\n",
    "                poi_post_delimiter_dict[poi_post_delimiter] = 1\n",
    "    except ValueError:\n",
    "        pass\n",
    "    \n",
    "street_pre_delimiter_dict.pop(\"\", None)\n",
    "street_pre_delimiter_dict=dict(sorted(street_pre_delimiter_dict.items(), key=lambda item: item[1],reverse=True))\n",
    "street_post_delimiter_dict.pop(\"\", None)\n",
    "street_post_delimiter_dict=dict(sorted(street_post_delimiter_dict.items(), key=lambda item: item[1],reverse=True))\n",
    "poi_pre_delimiter_dict.pop(\"\", None)\n",
    "poi_pre_delimiter_dict=dict(sorted(poi_pre_delimiter_dict.items(), key=lambda item: item[1],reverse=True))\n",
    "poi_post_delimiter_dict.pop(\"\", None)\n",
    "poi_post_delimiter_dict=dict(sorted(poi_post_delimiter_dict.items(), key=lambda item: item[1],reverse=True))"
   ]
  },
  {
   "cell_type": "code",
   "execution_count": 4,
   "metadata": {},
   "outputs": [],
   "source": [
    "import json\n",
    "\n",
    "with open('street_start_dict.json', 'w') as fp:\n",
    "    json.dump(street_pre_delimiter_dict, fp)\n",
    "with open('street_end_dict.json', 'w') as fp:\n",
    "    json.dump(street_post_delimiter_dict, fp)\n",
    "\n",
    "with open('poi_start_dict.json', 'w') as fp:\n",
    "    json.dump(poi_pre_delimiter_dict, fp)\n",
    "with open('poi_end_dict.json', 'w') as fp:\n",
    "    json.dump(poi_post_delimiter_dict, fp)\n"
   ]
  },
  {
   "cell_type": "code",
   "execution_count": null,
   "metadata": {},
   "outputs": [],
   "source": []
  }
 ],
 "metadata": {
  "kernelspec": {
   "display_name": "Python 3",
   "language": "python",
   "name": "python3"
  },
  "language_info": {
   "codemirror_mode": {
    "name": "ipython",
    "version": 3
   },
   "file_extension": ".py",
   "mimetype": "text/x-python",
   "name": "python",
   "nbconvert_exporter": "python",
   "pygments_lexer": "ipython3",
   "version": "3.6.8"
  }
 },
 "nbformat": 4,
 "nbformat_minor": 2
}
